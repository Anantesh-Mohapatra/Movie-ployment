{
  "nbformat": 4,
  "nbformat_minor": 0,
  "metadata": {
    "colab": {
      "provenance": []
    },
    "kernelspec": {
      "name": "python3",
      "display_name": "Python 3"
    },
    "language_info": {
      "name": "python"
    }
  },
  "cells": [
    {
      "cell_type": "markdown",
      "source": [
        "We'll be building a simple data feature that takes a movie id, and provides the box office sum and unemployment rate when that movie was released.\n",
        "\n",
        "We will use two APIs:\n",
        "\n",
        "\n",
        "1.   An API that provides movie related info (OMDb API)\n",
        "2.   An API that provides the unemployment rate (FRED API)\n",
        "\n",
        "Steps:\n",
        "\n",
        "\n",
        "*   Sign up for OMDb API key\n",
        "*   Sign up for FRED API key\n",
        "*   Add APIs to Colab secrets + test APIs\n",
        "*   Write function to get movie details (including title) by movie ID\n",
        "*   Write function to get unemployment data based on the movie release day\n",
        "\n",
        "\n",
        "\n",
        "\n",
        "\n",
        "\n",
        "\n",
        "\n"
      ],
      "metadata": {
        "id": "xV4TeQNTRrGI"
      }
    },
    {
      "cell_type": "markdown",
      "source": [
        "API Rate Limits:\n",
        "\n",
        "\n",
        "*   The rate limit for OMDb is 1,000 per _day_.\n",
        "*   The rate limit for FRED is 120 per _minute_.\n",
        "\n"
      ],
      "metadata": {
        "id": "pYMnWzjaetQ9"
      }
    },
    {
      "cell_type": "code",
      "source": [
        "#set up API keys\n",
        "from google.colab import userdata\n",
        "\n",
        "OMDB_API_KEYS = userdata.get('OMDB_API_KEY')\n",
        "FRED_API_KEYS = userdata.get('FRED_API_KEY')\n",
        "\n",
        "if OMDB_API_KEYS:\n",
        "  print('OMDB key retrieved successfully.')\n",
        "else:\n",
        "  print('Could not retrieve OMDB key.')\n",
        "\n",
        "if FRED_API_KEYS:\n",
        "  print('FRED key retrieved successfully.')\n",
        "else:\n",
        "  print('Could not find FRED :(')"
      ],
      "metadata": {
        "colab": {
          "base_uri": "https://localhost:8080/"
        },
        "id": "U5jIfvssheCu",
        "outputId": "a846cf23-2a0c-49d4-afe5-48d06c172d78"
      },
      "execution_count": 20,
      "outputs": [
        {
          "output_type": "stream",
          "name": "stdout",
          "text": [
            "OMDB key retrieved successfully.\n",
            "FRED key retrieved successfully.\n"
          ]
        }
      ]
    },
    {
      "cell_type": "code",
      "source": [
        "import requests\n",
        "\n",
        "#Function to get movie information (title, year, and plot) using movie name (OMDb API)\n",
        "#Note: While this is not caps-sensitive, please make sure the movie title is correctly spelled.\n",
        "def get_movie_by_name(imdb_name):\n",
        "    url = f\"https://www.omdbapi.com/?t={imdb_name}&apikey={OMDB_API_KEYS}\"\n",
        "    response = requests.get(url)\n",
        "\n",
        "    if response.status_code == 200:\n",
        "        movie_data = response.json()\n",
        "        return movie_data\n",
        "    else:\n",
        "        print(f\"Error: {response.status_code}\")\n",
        "        return None"
      ],
      "metadata": {
        "id": "ak32a9r9wkRn"
      },
      "execution_count": 21,
      "outputs": []
    },
    {
      "cell_type": "code",
      "source": [
        "#Test with Inception\n",
        "movie = get_movie_by_name(\"Inception\")\n",
        "\n",
        "if movie:\n",
        "    print(f\"Title: {movie['Title']}\")\n",
        "    print(f\"Year: {movie['Year']}\")\n",
        "    print(f\"Date Released: {movie['Released']}\")\n",
        "    print(f\"Plot: {movie['Plot']}\")"
      ],
      "metadata": {
        "colab": {
          "base_uri": "https://localhost:8080/"
        },
        "id": "gG2HCBkNyzbP",
        "outputId": "4565bff4-e3ae-401b-ebe2-3cdcc172889a"
      },
      "execution_count": 22,
      "outputs": [
        {
          "output_type": "stream",
          "name": "stdout",
          "text": [
            "Title: Inception\n",
            "Year: 2010\n",
            "Date Released: 16 Jul 2010\n",
            "Plot: A thief who steals corporate secrets through the use of dream-sharing technology is given the inverse task of planting an idea into the mind of a C.E.O., but his tragic past may doom the project and his team to disaster.\n"
          ]
        }
      ]
    },
    {
      "cell_type": "code",
      "source": [
        "#Function to convert the date format into one FRED likes\n",
        "from datetime import datetime\n",
        "\n",
        "def convert_date_format(date_str):\n",
        "    # Define the input format\n",
        "    input_format = \"%d %b %Y\"\n",
        "    # Parse the input date string into a datetime object\n",
        "    date_obj = datetime.strptime(date_str, input_format)\n",
        "    # Convert the datetime object to the desired output format\n",
        "    output_format = \"%Y-%m-%d\"  # Uses '-' to remove leading zeros\n",
        "    return date_obj.strftime(output_format)\n",
        "\n",
        "#Example usage:\n",
        "date_input = \"16 Jul 2010\"\n",
        "converted_date = convert_date_format(date_input)\n",
        "print(f\"Converted date: {converted_date}\")\n"
      ],
      "metadata": {
        "colab": {
          "base_uri": "https://localhost:8080/"
        },
        "id": "KLyYFaRevgIN",
        "outputId": "59fe8af1-57b6-4a0a-a32e-158d880f63f2"
      },
      "execution_count": 23,
      "outputs": [
        {
          "output_type": "stream",
          "name": "stdout",
          "text": [
            "Converted date: 2010-07-16\n"
          ]
        }
      ]
    },
    {
      "cell_type": "code",
      "source": [
        "#Get unemployment data from FRED\n",
        "def get_unemployment_data(date):\n",
        "    url = f\"https://api.stlouisfed.org/fred/series/observations?series_id=UNRATE&api_key={FRED_API_KEYS}&file_type=json&observation_start={date}&observation_end={date}\"\n",
        "    response = requests.get(url)\n",
        "\n",
        "    if response.status_code == 200:\n",
        "        raw_data = response.json()\n",
        "        unrate_data = raw_data['observations'][0]['value'] + \"%\"\n",
        "        return unrate_data\n",
        "    else:\n",
        "        print(f\"Error: {response.status_code}\")\n",
        "        return None\n",
        "\n",
        "#Test the function with Inception's date\n",
        "get_unemployment_data(\"2010-07-16\")\n"
      ],
      "metadata": {
        "colab": {
          "base_uri": "https://localhost:8080/",
          "height": 36
        },
        "id": "iSbkbLCa1f4E",
        "outputId": "0924ce20-4980-4e9f-fab0-b4dfb8835ab5"
      },
      "execution_count": 24,
      "outputs": [
        {
          "output_type": "execute_result",
          "data": {
            "text/plain": [
              "'9.4%'"
            ],
            "application/vnd.google.colaboratory.intrinsic+json": {
              "type": "string"
            }
          },
          "metadata": {},
          "execution_count": 24
        }
      ]
    },
    {
      "cell_type": "code",
      "source": [
        "#Combine movie + unemployment data\n",
        "\n",
        "def movie_ployment(title):\n",
        "  movie = get_movie_by_name(title)\n",
        "  raw_date = movie['Released']\n",
        "  date = convert_date_format(raw_date)\n",
        "  unrate = get_unemployment_data(date)\n",
        "  revenue = movie['BoxOffice']\n",
        "  return f\"{title} received {revenue} at the box office. The unemployment rate at the time was {unrate}.\""
      ],
      "metadata": {
        "id": "mHBtn0re0DuL"
      },
      "execution_count": 25,
      "outputs": []
    },
    {
      "cell_type": "code",
      "source": [
        "#Test final output, using Inception\n",
        "\n",
        "movie_ployment(\"Inception\")"
      ],
      "metadata": {
        "id": "w3l1Atw90N-a",
        "colab": {
          "base_uri": "https://localhost:8080/",
          "height": 36
        },
        "outputId": "9bfaafbf-33ad-42d4-84e1-fcfbabb64fe9"
      },
      "execution_count": 26,
      "outputs": [
        {
          "output_type": "execute_result",
          "data": {
            "text/plain": [
              "'Inception received $292,587,330 at the box office. The unemployment rate at the time was 9.4%.'"
            ],
            "application/vnd.google.colaboratory.intrinsic+json": {
              "type": "string"
            }
          },
          "metadata": {},
          "execution_count": 26
        }
      ]
    },
    {
      "cell_type": "code",
      "source": [
        "title = input(\"Enter a movie title: \")\n",
        "movie_ployment(title)"
      ],
      "metadata": {
        "colab": {
          "base_uri": "https://localhost:8080/",
          "height": 54
        },
        "id": "31_O9zGTf7zM",
        "outputId": "77258128-4197-458a-e7da-a64c791a6497"
      },
      "execution_count": 27,
      "outputs": [
        {
          "name": "stdout",
          "output_type": "stream",
          "text": [
            "Enter a movie title: Inside Out 2\n"
          ]
        },
        {
          "output_type": "execute_result",
          "data": {
            "text/plain": [
              "'Inside Out 2 received $646,311,114 at the box office. The unemployment rate at the time was 4.1%.'"
            ],
            "application/vnd.google.colaboratory.intrinsic+json": {
              "type": "string"
            }
          },
          "metadata": {},
          "execution_count": 27
        }
      ]
    }
  ]
}